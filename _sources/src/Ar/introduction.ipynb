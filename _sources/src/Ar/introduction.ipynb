{
 "cells": [
  {
   "cell_type": "markdown",
   "metadata": {},
   "source": [
    "<h1 dir=\"rtl\">\n",
    "مقدمة\n",
    "</h1>\n",
    "\n",
    "```{div} sd-sphinx-override sd-btn sd-text-wrap lang\n",
    "غير اللغة\n",
    "```\n"
   ]
  },
  {
   "cell_type": "markdown",
   "metadata": {},
   "source": [
    "<div dir=\"rtl\">\n",
    "<h2>\n",
    " مرحبًا!\n",
    "</h2>\n",
    "\n",
    "يحتوي هذه المستودع على شروط المرجعية لمشاريع فريق تطوير TechGeeks لهذا الفصل الدراسي.\n",
    "</div>"
   ]
  },
  {
   "cell_type": "markdown",
   "metadata": {},
   "source": [
    "```{tableofcontents}\n",
    "```"
   ]
  }
 ],
 "metadata": {
  "language_info": {
   "name": "python"
  }
 },
 "nbformat": 4,
 "nbformat_minor": 2
}
