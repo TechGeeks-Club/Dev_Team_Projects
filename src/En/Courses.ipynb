{
 "cells": [
  {
   "cell_type": "markdown",
   "id": "c7cc919a-2944-4201-84a3-a790718f1db4",
   "metadata": {},
   "source": [
    "# TG Courses \n",
    "___\n"
   ]
  },
  {
   "cell_type": "markdown",
   "id": "ca54b864",
   "metadata": {},
   "source": [
    "## Index \n",
    "- [I. Introduction](#i-introduction)\n",
    "    - [I.1 Project Overview](#i1-project-overview)\n",
    "- [II. Objectives Of the project](#ii-objectives-of-the-project)\n",
    "- [III. Target Audience](#iii-target-audience)\n",
    "- [IV. Key Features](#iv-key-features)\n",
    "    - [IV.1 User Space Features](#iv1-user-space-features)\n",
    "    - [IV.2 Admin Space Features](#iv2-admin-space-features)\n",
    "- [V. Technology Stack](#v-technology-stack)\n",
    "    - [V.1 Frontend Technologies](#v1-frontend-technologies)\n",
    "    - [V.2 Backend Technologies](#v2-backend-technologies)\n",
    "    - [V.3 Database Technologies](#v3-database-technologies)\n",
    "- [VI. System Architecture](#vi-system-architecture)\n",
    "- [VII. Expected Outcomes](#vii-expected-outcomes)"
   ]
  },
  {
   "cell_type": "markdown",
   "id": "69cc5e01",
   "metadata": {},
   "source": [
    "## I. Introduction:\n",
    "### I.1 Project Overview:\n",
    "\n",
    "**TG courses** is an online platform that offers modular courses focused on programming and technology. It provides structured content in a user-friendly interface, featuring university-specific courses, practical assignments, hands-on coding exercises, and simplified modules.\n",
    "\n",
    "An administration panel allows easy management of content, enabling administrators to create, edit, and delete courses by uploading Jupyter Notebooks or Markdown files for automatic integration.\n"
   ]
  },
  {
   "cell_type": "markdown",
   "id": "87a14314-b5a6-4592-af8b-fb0aaa40d5b0",
   "metadata": {},
   "source": [
    "## II. Objectives Of the project:\n",
    "\n",
    "- Provide an easy-to-navigate, accessible platform for students to learn at their own pace.\n",
    "- Offer university-specific courses, practical assignments, and hands-on coding exercises.\n",
    "- Simplify complex topics into easily manageable parts.\n",
    "- Foster an engaging learning experience through interactive code editors, quizzes, and exercises.\n",
    "- Create an administration panel for easy management of courses, lessons, and assignments."
   ]
  },
  {
   "cell_type": "markdown",
   "id": "e77c9b6e-64d8-4bb7-870f-d7a1605494e3",
   "metadata": {},
   "source": [
    "## III.Target Audience :"
   ]
  },
  {
   "cell_type": "markdown",
   "id": "e05a65a8-b066-4394-8c2e-791ed8923103",
   "metadata": {},
   "source": [
    "This platform will primarily target students who are beginners or intermediate learners in coding and technical fields. High school and college students, as well as anyone looking to upskill, will benefit from the accessible and hands-on nature of the platform."
   ]
  },
  {
   "cell_type": "markdown",
   "id": "23fc2b68-ab6d-4df5-aca5-c5929c6f9afc",
   "metadata": {},
   "source": [
    "## IV. Key Features:\n",
    "\n",
    "### IV.1 User Space Features:\n",
    "\n",
    "- **Course Catalog:** Browse through a variety of courses, filter by subject, difficulty level or ...etc.\n",
    "- **Quiz and Exercises:** Test your knowledge with interactive quizzes and coding exercises.\n",
    "- **Progress Tracking:** Monitor your progress through courses and assignments.\n",
    "- **Discussion Forums:** Engage with other students, ask questions, and share insights.\n",
    "- **Certificates:** Earn certificates upon course completion. `for auth users`\n",
    "- **User Profile:** Customize your profile, track your achievements, and manage your courses. \n",
    "- **Responsive Design:** Access the platform on any device, with a mobile-friendly interface. \"cross-platform\"\n",
    "\n",
    "> authentification is not required to access to this platform, but it's required to access some features like certificates, progress tracking, and user profile.\n",
    "\n",
    "### IV.2 Admin Space Features:\n",
    "\n",
    "- **Dashboard:** View analytics of user engagement, course completion rates, most popular courses...etc.\n",
    "- **Content Management:** Create, edit, and delete courses, lessons, and assignments. with out dealing with the code.\n",
    "    - admin can upload a Jupyter Notebook or a Markdown file, and the system will automatically integrate the content into the platform.\n",
    "- **User Management:** Manage user accounts, view user progress, and provide support.\n",
    "- **Data Management:** Admin can do CRUD operations on all the tables in the database.\n",
    "- **Permission Management:** Admins can assign roles and permissions to users based on their responsibilities.\n",
    "- **Data Backup:** Admins can back up and restore data to prevent loss of information.\n",
    "- **Hestory of actions:** Admins can view the history of actions done by other admins."
   ]
  },
  {
   "cell_type": "markdown",
   "id": "fed08bab-3195-4f3e-8172-bb3d43320b36",
   "metadata": {},
   "source": [
    "## V. Technology Stack:\n",
    "\n",
    "### V.1 Frontend Technologies:\n",
    "\n",
    "- use any frontend technologies you prefer. \n",
    "> but we recommend using HTML, CSS, and JavaScript.\n",
    "\n",
    "### V.2 Backend Technologies:\n",
    "\n",
    "- use any backend technologies you prefer. \n",
    "> to convert the Jupyter Notebooks and markdwn to HTML, you can use one of this Lib: `nbconvert`, `sphinx`, `jupyter-book` (we recommend  `jupyter-book`).\n",
    "\n",
    "### V.3 Database Technologies:\n",
    "\n",
    "- SQL Database as the primary database."
   ]
  },
  {
   "cell_type": "markdown",
   "id": "8f08a52c",
   "metadata": {},
   "source": [
    "## VI. System Architecture:"
   ]
  },
  {
   "cell_type": "markdown",
   "id": "2350f073",
   "metadata": {},
   "source": [
    "<div style=\"display:flex;justify-content: center;align-content: center;\">\n",
    "    <img src=\"/_static/img/TG_courses.svg\" >\n",
    "</div>"
   ]
  },
  {
   "cell_type": "markdown",
   "id": "78579a9e-b04d-4a02-8467-f42a30dbe382",
   "metadata": {},
   "source": [
    "## VII. Expected Outcomes:\n"
   ]
  },
  {
   "cell_type": "markdown",
   "id": "4fab9300-a9f0-417c-8719-e8a532d0542a",
   "metadata": {},
   "source": [
    "By project completion, this platform will offer a robust, beginner-friendly platform where students can learn, practice, and track their progress. With the potential for continuous improvements, this platform aims to become a trusted resource for self-paced learning, helping students gain the confidence and skills needed in the tech world."
   ]
  }
 ],
 "metadata": {
  "kernelspec": {
   "display_name": "Python 3 (ipykernel)",
   "language": "python",
   "name": "python3"
  },
  "language_info": {
   "codemirror_mode": {
    "name": "ipython",
    "version": 3
   },
   "file_extension": ".py",
   "mimetype": "text/x-python",
   "name": "python",
   "nbconvert_exporter": "python",
   "pygments_lexer": "ipython3",
   "version": "3.12.4"
  }
 },
 "nbformat": 4,
 "nbformat_minor": 5
}
