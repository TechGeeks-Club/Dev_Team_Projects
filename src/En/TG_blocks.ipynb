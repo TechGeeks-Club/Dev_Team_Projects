{
 "cells": [
  {
   "cell_type": "markdown",
   "metadata": {},
   "source": [
    "# TG Blocks\n",
    "___\n",
    "\n",
    "```{div} sd-sphinx-override sd-btn sd-text-wrap lang\n",
    "Change language \n",
    "```"
   ]
  },
  {
   "cell_type": "markdown",
   "metadata": {},
   "source": [
    "## Index\n",
    "- [TG Blocks](#tg-blocks)\n",
    "- [I. Introduction](#i-introduction)\n",
    "    - [I.1 Problem Statement](#i1-problem-statement)\n",
    "    - [I.2 Project Overview](#i2-project-overview)\n",
    "- [II. Objectives of the Project](#ii-objectives-of-the-project)\n",
    "- [III. Key Features](#iii-key-features)\n",
    "- [IV. Technologies Stack](#iv-technologies-stack)\n",
    "    - [IV.1 Frontend Technologies](#iv1-frontend-technologies)\n",
    "    - [IV.2 Backend Technologies](#iv2-backend-technologies)\n",
    "    - [IV.3 Database Technologies](#iv3-database-technologies)\n",
    "- [V. Target Audience](#v-target-audience)\n",
    "- [VI. Keywords](#vi-keywords)\n"
   ]
  },
  {
   "cell_type": "markdown",
   "metadata": {},
   "source": [
    "## I. Introduction\n",
    "\n",
    "### I.1 Problem Statement:\n",
    "Beginners in programming, especially first-year students in the computer science field, generally face challenges in understanding algorithms and often confuse them with programming languages. This confusion acts as a barrier to effectively learning the fundamentals of programming.\n",
    "\n",
    "### I.2 Project Overview:\n",
    "**TG Blocks** is a platform aims to bridge the gap between algorithms and programming languages. It offers a visual representation of algorithms alongside their corresponding code in multiple programming languages. This platform will assist beginners in understanding the logic behind algorithms without the complications of programming language syntax and without the distraction of compiler errors.\n"
   ]
  },
  {
   "cell_type": "markdown",
   "metadata": {},
   "source": [
    "## II. Objectives of the Project\n",
    "\n",
    "- Develop a user-friendly web interface for the platform. \n",
    "> the interface is the ***most important*** part of the project, as it is the first thing the user interacts with.\n",
    "- Implement a visual representation of algorithms using block-based programming.\n",
    "- Provide the corresponding code of the algorithm in multiple programming languages.\n",
    "- Implement a feature that allows users to contribute to the platform by adding new algorithms or improving existing ones.\n",
    "\n",
    "> Until now, there has not been a good version of the simulare projects for mobile devices. Therefore, we will attempt to provide a mobile version of the platform"
   ]
  },
  {
   "cell_type": "markdown",
   "metadata": {},
   "source": [
    "## III. Key Features \n",
    "\n",
    "- **User-friendly Interface**: The platform will have an intuitive and easy-to-use interface.\n",
    "- Provide a Desctop ***offline*** version of the platform.\n",
    "- **Visual Representation**: The platform will provide a visual representation of algorithms using block-based programming.\n",
    "- **Multiple Programming Languages**: The platform will provide the corresponding code of the algorithm in multiple programming languages.\n",
    "    - as a start, we will provide just a single language, the language must be a simple and Enterprited language like Python.\n",
    "- **Contribution Feature**: The platform will allow users to contribute to the platform by adding new algorithms or improving existing ones.    \n",
    "- **Authentication**: The platform will have an authentication system to allow users to save their progress and contributions.`not required in the offline version`"
   ]
  },
  {
   "cell_type": "markdown",
   "metadata": {},
   "source": [
    "## IV. Technologies Stack \n",
    "\n",
    "### IV.1 Frontend Technologies:\n",
    "\n",
    "- use any frontend technologies you prefer. \n",
    "> we recommend Single Page Application (SPA) frameworks. and electron.js for desktop applications.\n",
    "\n",
    "### IV.2 Backend Technologies:\n",
    "\n",
    "- use any backend technologies you prefer. \n",
    "\n",
    "### IV.3 Database Technologies:\n",
    "\n",
    "- SQL Database as the primary database. `for web version`\n"
   ]
  },
  {
   "cell_type": "markdown",
   "metadata": {},
   "source": [
    "## V. Target Audience :\n",
    "- First-year students in the computer science field.\n",
    "- Beginners in programming.\n",
    "- Instructors who want to teach algorithms in a more interactive way.\n"
   ]
  },
  {
   "cell_type": "markdown",
   "metadata": {},
   "source": [
    "## VI. keywords: \n",
    "this keywords will help you to find more information about the project.\n",
    "\n",
    "#secratch #Algorithms #Programming #Block-Based-Programming #secratch #Electron.js"
   ]
  }
 ],
 "metadata": {
  "language_info": {
   "name": "python"
  }
 },
 "nbformat": 4,
 "nbformat_minor": 2
}
