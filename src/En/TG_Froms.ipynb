{
 "cells": [
  {
   "cell_type": "markdown",
   "metadata": {},
   "source": [
    "# TG Forms\n",
    "___\n",
    "```{div} sd-sphinx-override sd-btn sd-text-wrap lang\n",
    "Change language \n",
    "```"
   ]
  },
  {
   "cell_type": "markdown",
   "metadata": {},
   "source": [
    "## Index\n",
    "\n",
    "- [I. Introduction](#i-introduction)\n",
    "    - [I.1 Background & Problem Statement](#i1-background--problem-statement-)\n",
    "    - [I.2 Project Overview](#i2-project-overview-)\n",
    "- [II. Objectives of the Project](#ii-objectives-of-the-project)\n",
    "    - [II.1 Data Collection and Storage](#ii1-data-collection-and-storage-)\n",
    "    - [II.2 Data Sharing and Reuse](#ii2-data-sharing-and-reuse-)\n",
    "- [III. Key Features](#iii-key-features)\n",
    "    - [III.1 Platform Development](#iii1-platform-development)\n",
    "        - [III.1.1 User Space Features](#iii11-user-space-features)\n",
    "        - [III.1.2 Admin Space Features](#iii12-admin-space-features)\n",
    "    - [III.2 Search and Retrieval Functionality](#iii2-search-and-retrieval-functionality)\n",
    "- [IV. Technologies Stack](#iv-technologies-stack)\n",
    "    - [IV.1 Frontend Technologies](#iv1-frontend-technologies)\n",
    "    - [IV.2 Backend Technologies](#iv2-backend-technologies)\n",
    "    - [IV.3 Database Technologies](#iv3-database-technologies)"
   ]
  },
  {
   "cell_type": "markdown",
   "metadata": {},
   "source": [
    "## I. Introduction\n",
    "### I.1 Background & Problem Statement :\n",
    "\n",
    "In the current academic environment, 3rd & 5th year university students are required to conduct research and data collection as part of their graduation projects. Typically, students rely on Google Forms to gather data relevant to their studies. However, once the data is collected and the project is completed, the information is neither stored nor shared for potential reuse. This results in a significant duplication of effort as students working on similar projects must repeatedly collect data that has already been gathered by others.\n",
    "\n",
    "### I.2 Project Overview :\n",
    "\n",
    "**TG Forms** aims to address this issue by providing a centralized platform for university students to create, manage, and store data collection forms. This platform will enable students to access previously collected data that is relevant to their research, thereby saving time, minimizing redundant efforts, and creating a valuable repository of information for future academic use. The long-term goal is to establish a comprehensive dataset that will benefit students undertaking similar projects in subsequent years."
   ]
  },
  {
   "cell_type": "markdown",
   "metadata": {},
   "source": [
    "## II. Objectives of the Project\n",
    "\n",
    "### II.1 Data Collection and Storage :\n",
    "\n",
    "- To develop a platform where students can create custom forms to collect data for their projects.\n",
    "- To ensure all collected data is securely stored in a central database for easy retrieval and future use.\n",
    "\n",
    "### II.2 Data Sharing and Reuse :\n",
    "\n",
    "- To allow students access to previously collected data relevant to their research topics.\n"
   ]
  },
  {
   "cell_type": "markdown",
   "metadata": {},
   "source": [
    "## III. Key Features \n",
    "\n",
    "### III.1 Platform Development:\n",
    "#### III.1.1 User Space Features:\n",
    "\n",
    "- **Dashboard:** Users can view and manage their forms and collected data from a centralized dashboard.\n",
    "- **Form Creation:** Users can create custom forms with various input fields to collect data.\n",
    "- **Data Collection:** Students can share their forms with others to collect data.\n",
    "- **Data Storage:** All collected data will be stored securely in a central database.\n",
    "- **Data Retrieval:** Students can access previously collected data that is relevant to their research topics.\n",
    "- **Data Visualization:** Users can view and analyze collected data through charts and graphs.\n",
    "- **Data Export:** Students can export collected data in various formats for further analysis.\n",
    "- **Data Sharing:** Users can share their forms and collected data with others for academic use.\n",
    "- **Data Privacy:** The platform will ensure the privacy and security of all collected data. (user can choose to make the data public or private)\n",
    "- **Cross-Platform Compatibility:** The platform will be accessible on various devices, including desktops, laptops, tablets, and smartphones.\n",
    "\n",
    "\n",
    "#### III.1.2 Admin Space Features:\n",
    "\n",
    "- **Admin Dashboard:** Admins can manage user accounts, forms, and collected data. and view statistics and reports.\n",
    "- **User Management:** Admins can add, edit, and delete user accounts.\n",
    "- **Form Management:** Admins can view, edit, and delete forms created by users.\n",
    "- **Data Management:** Admins can access and manage all collected data in the database.\n",
    "- **Permission Management:** Admins can assign roles and permissions to users based on their responsibilities.\n",
    "- **Data Backup:** Admins can back up and restore data to prevent loss of information.\n",
    "\n",
    "\n",
    "### III.2 Search and Retrieval Functionality:\n",
    "\n",
    "- Implement a search functionality that enables users to quickly locate and access relevant datasets.\n",
    "- Ensure that the retrieval process is efficient and user-friendly.\n"
   ]
  },
  {
   "cell_type": "markdown",
   "metadata": {},
   "source": [
    "## IV. Technologies Stack \n",
    "\n",
    "### IV.1 Frontend Technologies:\n",
    "\n",
    "- use any frontend technologies you prefer. \n",
    "> but we recommend using HTML, CSS, and JavaScript.\n",
    "\n",
    "### IV.2 Backend Technologies:\n",
    "\n",
    "- use any backend technologies you prefer. \n",
    "\n",
    "### IV.3 Database Technologies:\n",
    "\n",
    "- SQL Database as the primary database.\n",
    "- and document database to store the forms and the data.\n"
   ]
  }
 ],
 "metadata": {
  "kernelspec": {
   "display_name": "Python 3",
   "language": "python",
   "name": "python3"
  },
  "language_info": {
   "codemirror_mode": {
    "name": "ipython",
    "version": 3
   },
   "file_extension": ".py",
   "mimetype": "text/x-python",
   "name": "python",
   "nbconvert_exporter": "python",
   "pygments_lexer": "ipython3",
   "version": "3.11.4"
  }
 },
 "nbformat": 4,
 "nbformat_minor": 2
}
